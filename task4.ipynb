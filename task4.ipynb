{
 "cells": [
  {
   "cell_type": "code",
   "execution_count": 57,
   "metadata": {
    "collapsed": true
   },
   "outputs": [],
   "source": [
    "import numpy as np\n",
    "from scipy.stats import norm\n",
    "from math import ceil"
   ]
  },
  {
   "cell_type": "code",
   "execution_count": 58,
   "outputs": [],
   "source": [
    "def generate_posi(n, eps, lam):\n",
    "    ave = np.average(np.random.poisson(lam, n))\n",
    "    return abs(ave - lam) < eps"
   ],
   "metadata": {
    "collapsed": false
   }
  },
  {
   "cell_type": "code",
   "execution_count": 59,
   "outputs": [],
   "source": [
    "lam = 10\n",
    "eps = 0.01\n",
    "delta = 0.05"
   ],
   "metadata": {
    "collapsed": false
   }
  },
  {
   "cell_type": "markdown",
   "source": [
    "## Оценка через ЦПТ"
   ],
   "metadata": {
    "collapsed": false
   }
  },
  {
   "cell_type": "code",
   "execution_count": 60,
   "outputs": [
    {
     "name": "stdout",
     "output_type": "stream",
     "text": [
      "n = 270555, all samples = 100, succeed = 94, pro-cent = 0.94\n"
     ]
    }
   ],
   "source": [
    "n = ceil(norm.ppf(1 - delta) ** 2 / (eps ** 2) * lam)\n",
    "samples = 100\n",
    "\n",
    "success = sum((generate_posi(n, eps, lam) for _ in range(samples)))\n",
    "print(f\"n = {n}, all samples = {samples}, succeed = {success}, pro-cent = {success/samples}\")"
   ],
   "metadata": {
    "collapsed": false
   }
  },
  {
   "cell_type": "markdown",
   "source": [
    "## Оценка через Чебышева"
   ],
   "metadata": {
    "collapsed": false
   }
  },
  {
   "cell_type": "code",
   "execution_count": 61,
   "outputs": [
    {
     "name": "stdout",
     "output_type": "stream",
     "text": [
      "n = 2000000, all samples = 100, succeed = 100, pro-cent = 1.0\n"
     ]
    }
   ],
   "source": [
    "n = ceil(lam / delta / (eps ** 2))\n",
    "samples = 100\n",
    "\n",
    "success = sum((generate_posi(n, eps, lam) for _ in range(samples)))\n",
    "print(f\"n = {n}, all samples = {samples}, succeed = {success}, pro-cent = {success/samples}\")"
   ],
   "metadata": {
    "collapsed": false
   }
  }
 ],
 "metadata": {
  "kernelspec": {
   "display_name": "Python 3",
   "language": "python",
   "name": "python3"
  },
  "language_info": {
   "codemirror_mode": {
    "name": "ipython",
    "version": 2
   },
   "file_extension": ".py",
   "mimetype": "text/x-python",
   "name": "python",
   "nbconvert_exporter": "python",
   "pygments_lexer": "ipython2",
   "version": "2.7.6"
  }
 },
 "nbformat": 4,
 "nbformat_minor": 0
}
