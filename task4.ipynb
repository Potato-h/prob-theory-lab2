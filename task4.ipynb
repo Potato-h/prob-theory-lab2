{
 "cells": [
  {
   "cell_type": "code",
   "execution_count": 12,
   "metadata": {
    "collapsed": true
   },
   "outputs": [],
   "source": [
    "import numpy as np"
   ]
  },
  {
   "cell_type": "code",
   "execution_count": 13,
   "outputs": [],
   "source": [
    "def generate_posi(n, eps, lam):\n",
    "    ave = np.average([np.random.poisson(lam) for _ in range(n)])\n",
    "    return abs(ave - lam) < eps"
   ],
   "metadata": {
    "collapsed": false
   }
  },
  {
   "cell_type": "code",
   "execution_count": 14,
   "outputs": [],
   "source": [
    "lam = 10\n",
    "eps = 0.01"
   ],
   "metadata": {
    "collapsed": false
   }
  },
  {
   "cell_type": "markdown",
   "source": [
    "## Оценка через ЦПТ"
   ],
   "metadata": {
    "collapsed": false
   }
  },
  {
   "cell_type": "code",
   "execution_count": 15,
   "outputs": [
    {
     "name": "stdout",
     "output_type": "stream",
     "text": [
      "all samples = 100, succeed = 79, pro-cent = 0.79\n"
     ]
    }
   ],
   "source": [
    "n = 193000\n",
    "samples = 100\n",
    "\n",
    "success = sum((generate_posi(n, eps, lam) for _ in range(samples)))\n",
    "print(f\"all samples = {samples}, succeed = {success}, pro-cent = {success/samples}\")"
   ],
   "metadata": {
    "collapsed": false
   }
  },
  {
   "cell_type": "markdown",
   "source": [
    "## Оценка через Чебышева"
   ],
   "metadata": {
    "collapsed": false
   }
  },
  {
   "cell_type": "code",
   "execution_count": 16,
   "outputs": [
    {
     "name": "stdout",
     "output_type": "stream",
     "text": [
      "all samples = 100, succeed = 100, pro-cent = 1.0\n"
     ]
    }
   ],
   "source": [
    "n = 2000000\n",
    "samples = 100\n",
    "\n",
    "success = sum((generate_posi(n, eps, lam) for _ in range(samples)))\n",
    "print(f\"all samples = {samples}, succeed = {success}, pro-cent = {success/samples}\")"
   ],
   "metadata": {
    "collapsed": false
   }
  }
 ],
 "metadata": {
  "kernelspec": {
   "display_name": "Python 3",
   "language": "python",
   "name": "python3"
  },
  "language_info": {
   "codemirror_mode": {
    "name": "ipython",
    "version": 2
   },
   "file_extension": ".py",
   "mimetype": "text/x-python",
   "name": "python",
   "nbconvert_exporter": "python",
   "pygments_lexer": "ipython2",
   "version": "2.7.6"
  }
 },
 "nbformat": 4,
 "nbformat_minor": 0
}
